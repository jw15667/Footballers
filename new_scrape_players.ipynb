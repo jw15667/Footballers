{
 "cells": [
  {
   "cell_type": "code",
   "execution_count": 1,
   "metadata": {},
   "outputs": [],
   "source": [
    "from bs4 import BeautifulSoup\n",
    "import requests\n",
    "import csv\n",
    "import pandas as pd\n",
    "\n"
   ]
  },
  {
   "cell_type": "code",
   "execution_count": 2,
   "metadata": {},
   "outputs": [],
   "source": [
    "\n",
    "club_list = ['arsenal', 'aston-villa', 'barnsley', 'birmingham-city', 'blackburn-rovers', 'blackpool',\n",
    "             'bolton-wanderers', 'afc-bournemouth', 'bradford-city', 'brighton-and-hove-albion', 'burnley',\n",
    "             'cardiff-city', 'charlton-athletic', 'chelsea', 'coventry-city', 'crystal-palace', 'derby-county',\n",
    "             'everton', 'fulham', 'huddersfield-town', 'hull-city', 'ipswich-town', 'leeds-united', 'leicester-city',\n",
    "             'liverpool', 'manchester-city', 'manchester-united', 'middlesbrough', 'newcastle-united', 'norwich-city',\n",
    "             'nottingham-forest', 'oldham-athletic', 'portsmouth', 'queens-park-rangers', 'reading', 'sheffield-united',\n",
    "             'sheffield-wednesday', 'southampton', 'stoke-city', 'sunderland', 'swansea-city', 'swindon-town', 'tottenham-hotspur',\n",
    "             'watford', 'west-bromwich-albion', 'west-ham-united', 'wigan-athletic', 'wimbledon', 'wolverhampton-wanderers']\n",
    "\n",
    "season = ['1992', '1993', '1994', '1995', '1996', '1997', '1998', '1999', '2000', '2001', '2002', '2003', '2004', '2005',\n",
    "          '2006', '2007', '2008', '2009', '2010', '2011', '2012', '2013', '2014', '2015', '2016', '2017', '2018', '2019']\n",
    "\n",
    "\n",
    "team_season = []\n",
    "\n"
   ]
  },
  {
   "cell_type": "code",
   "execution_count": 37,
   "metadata": {},
   "outputs": [],
   "source": [
    "import re\n",
    "\n",
    "team_season = []\n",
    "for club, year in [(club, year) for club in club_list for year in season]:\n",
    "    website = f'https://www.11v11.com/teams/{club}/tab/players/season/{year}/comp/1'\n",
    "    source = requests.get(website).text\n",
    "    soup = BeautifulSoup(source, 'lxml')\n",
    "    squad = soup.find(class_=\"squad sortable\").find(\"tbody\").find_all(\"tr\")\n",
    "    if squad == None:\n",
    "        break\n",
    "    else:\n",
    "        for row in squad:\n",
    "            tds = row.find_all('td')\n",
    "            x = (tds[1].find('a')['href'])\n",
    "            player_id = re.findall(\"\\d+\", x)[0]\n",
    "            player_name = (tds[1].text)\n",
    "            appearances = (tds[4].text)\n",
    "            team_id = club + str(\"_\") + str(year)\n",
    "        \n",
    "            team = {}\n",
    "            team['Player'] = player_name\n",
    "            team['Club'] = club\n",
    "            team['Year'] = year\n",
    "            team['Player ID'] = player_id\n",
    "            team['Team ID'] = team_id\n",
    "            team['Appearances']= appearances\n",
    "            team_season.append(team)"
   ]
  },
  {
   "cell_type": "code",
   "execution_count": 45,
   "metadata": {},
   "outputs": [
    {
     "data": {
      "text/plain": [
       "{'Player': 'Adama Traoré',\n",
       " 'Club': 'wolverhampton-wanderers',\n",
       " 'Year': '2019',\n",
       " 'Player ID': '241740',\n",
       " 'Team ID': 'wolverhampton-wanderers_2019',\n",
       " 'Appearances': '8'}"
      ]
     },
     "execution_count": 45,
     "metadata": {},
     "output_type": "execute_result"
    }
   ],
   "source": [
    "team_season[14778]"
   ]
  },
  {
   "cell_type": "code",
   "execution_count": 48,
   "metadata": {},
   "outputs": [
    {
     "name": "stdout",
     "output_type": "stream",
     "text": [
      "Sucessfully saved\n"
     ]
    }
   ],
   "source": [
    "footballers_database = pd.DataFrame.from_dict(team_season)\n",
    "footballers_database.to_csv('C:/Users/jw156/Ironhack/football_teammates/Footballers/football_squad.csv')\n",
    "print(\"Sucessfully saved\")"
   ]
  },
  {
   "cell_type": "code",
   "execution_count": 60,
   "metadata": {},
   "outputs": [],
   "source": [
    "def player_or_squadman(appearances):\n",
    "    if appearances == '0':\n",
    "        return 'squad_player'\n",
    "    else:\n",
    "        return 'first_team_player'"
   ]
  },
  {
   "cell_type": "code",
   "execution_count": 61,
   "metadata": {},
   "outputs": [],
   "source": [
    "footballers_database['player_or_reserve'] = footballers_database.Appearances.apply(player_or_squadman)"
   ]
  },
  {
   "cell_type": "code",
   "execution_count": 66,
   "metadata": {},
   "outputs": [
    {
     "data": {
      "text/html": [
       "<div>\n",
       "<style scoped>\n",
       "    .dataframe tbody tr th:only-of-type {\n",
       "        vertical-align: middle;\n",
       "    }\n",
       "\n",
       "    .dataframe tbody tr th {\n",
       "        vertical-align: top;\n",
       "    }\n",
       "\n",
       "    .dataframe thead th {\n",
       "        text-align: right;\n",
       "    }\n",
       "</style>\n",
       "<table border=\"1\" class=\"dataframe\">\n",
       "  <thead>\n",
       "    <tr style=\"text-align: right;\">\n",
       "      <th></th>\n",
       "      <th>Player</th>\n",
       "      <th>Club</th>\n",
       "      <th>Year</th>\n",
       "      <th>Player ID</th>\n",
       "      <th>Team ID</th>\n",
       "      <th>Appearances</th>\n",
       "      <th>player_or_reserve</th>\n",
       "    </tr>\n",
       "  </thead>\n",
       "  <tbody>\n",
       "    <tr>\n",
       "      <th>8</th>\n",
       "      <td>Perry Groves</td>\n",
       "      <td>arsenal</td>\n",
       "      <td>1993</td>\n",
       "      <td>25104</td>\n",
       "      <td>arsenal_1993</td>\n",
       "      <td>0</td>\n",
       "      <td>squad_player</td>\n",
       "    </tr>\n",
       "    <tr>\n",
       "      <th>17</th>\n",
       "      <td>Gavin McGowan</td>\n",
       "      <td>arsenal</td>\n",
       "      <td>1993</td>\n",
       "      <td>4481</td>\n",
       "      <td>arsenal_1993</td>\n",
       "      <td>0</td>\n",
       "      <td>squad_player</td>\n",
       "    </tr>\n",
       "    <tr>\n",
       "      <th>33</th>\n",
       "      <td>Paul Dickov</td>\n",
       "      <td>arsenal</td>\n",
       "      <td>1994</td>\n",
       "      <td>1127</td>\n",
       "      <td>arsenal_1994</td>\n",
       "      <td>0</td>\n",
       "      <td>squad_player</td>\n",
       "    </tr>\n",
       "    <tr>\n",
       "      <th>57</th>\n",
       "      <td>Adrian Clarke</td>\n",
       "      <td>arsenal</td>\n",
       "      <td>1995</td>\n",
       "      <td>17627</td>\n",
       "      <td>arsenal_1995</td>\n",
       "      <td>0</td>\n",
       "      <td>squad_player</td>\n",
       "    </tr>\n",
       "    <tr>\n",
       "      <th>78</th>\n",
       "      <td>Paul Shaw</td>\n",
       "      <td>arsenal</td>\n",
       "      <td>1995</td>\n",
       "      <td>3998</td>\n",
       "      <td>arsenal_1995</td>\n",
       "      <td>0</td>\n",
       "      <td>squad_player</td>\n",
       "    </tr>\n",
       "    <tr>\n",
       "      <th>...</th>\n",
       "      <td>...</td>\n",
       "      <td>...</td>\n",
       "      <td>...</td>\n",
       "      <td>...</td>\n",
       "      <td>...</td>\n",
       "      <td>...</td>\n",
       "      <td>...</td>\n",
       "    </tr>\n",
       "    <tr>\n",
       "      <th>14751</th>\n",
       "      <td>Stefan Maierhofer</td>\n",
       "      <td>wolverhampton-wanderers</td>\n",
       "      <td>2012</td>\n",
       "      <td>225779</td>\n",
       "      <td>wolverhampton-wanderers_2012</td>\n",
       "      <td>0</td>\n",
       "      <td>squad_player</td>\n",
       "    </tr>\n",
       "    <tr>\n",
       "      <th>14755</th>\n",
       "      <td>Sam Vokes</td>\n",
       "      <td>wolverhampton-wanderers</td>\n",
       "      <td>2012</td>\n",
       "      <td>226275</td>\n",
       "      <td>wolverhampton-wanderers_2012</td>\n",
       "      <td>0</td>\n",
       "      <td>squad_player</td>\n",
       "    </tr>\n",
       "    <tr>\n",
       "      <th>14760</th>\n",
       "      <td>Léo Bonatini</td>\n",
       "      <td>wolverhampton-wanderers</td>\n",
       "      <td>2019</td>\n",
       "      <td>255985</td>\n",
       "      <td>wolverhampton-wanderers_2019</td>\n",
       "      <td>0</td>\n",
       "      <td>squad_player</td>\n",
       "    </tr>\n",
       "    <tr>\n",
       "      <th>14771</th>\n",
       "      <td>Max Kilman</td>\n",
       "      <td>wolverhampton-wanderers</td>\n",
       "      <td>2019</td>\n",
       "      <td>256684</td>\n",
       "      <td>wolverhampton-wanderers_2019</td>\n",
       "      <td>0</td>\n",
       "      <td>squad_player</td>\n",
       "    </tr>\n",
       "    <tr>\n",
       "      <th>14772</th>\n",
       "      <td>Will Norris</td>\n",
       "      <td>wolverhampton-wanderers</td>\n",
       "      <td>2019</td>\n",
       "      <td>241469</td>\n",
       "      <td>wolverhampton-wanderers_2019</td>\n",
       "      <td>0</td>\n",
       "      <td>squad_player</td>\n",
       "    </tr>\n",
       "  </tbody>\n",
       "</table>\n",
       "<p>1371 rows × 7 columns</p>\n",
       "</div>"
      ],
      "text/plain": [
       "                  Player                     Club  Year Player ID  \\\n",
       "8           Perry Groves                  arsenal  1993     25104   \n",
       "17         Gavin McGowan                  arsenal  1993      4481   \n",
       "33           Paul Dickov                  arsenal  1994      1127   \n",
       "57         Adrian Clarke                  arsenal  1995     17627   \n",
       "78             Paul Shaw                  arsenal  1995      3998   \n",
       "...                  ...                      ...   ...       ...   \n",
       "14751  Stefan Maierhofer  wolverhampton-wanderers  2012    225779   \n",
       "14755          Sam Vokes  wolverhampton-wanderers  2012    226275   \n",
       "14760       Léo Bonatini  wolverhampton-wanderers  2019    255985   \n",
       "14771         Max Kilman  wolverhampton-wanderers  2019    256684   \n",
       "14772        Will Norris  wolverhampton-wanderers  2019    241469   \n",
       "\n",
       "                            Team ID Appearances player_or_reserve  \n",
       "8                      arsenal_1993           0      squad_player  \n",
       "17                     arsenal_1993           0      squad_player  \n",
       "33                     arsenal_1994           0      squad_player  \n",
       "57                     arsenal_1995           0      squad_player  \n",
       "78                     arsenal_1995           0      squad_player  \n",
       "...                             ...         ...               ...  \n",
       "14751  wolverhampton-wanderers_2012           0      squad_player  \n",
       "14755  wolverhampton-wanderers_2012           0      squad_player  \n",
       "14760  wolverhampton-wanderers_2019           0      squad_player  \n",
       "14771  wolverhampton-wanderers_2019           0      squad_player  \n",
       "14772  wolverhampton-wanderers_2019           0      squad_player  \n",
       "\n",
       "[1371 rows x 7 columns]"
      ]
     },
     "execution_count": 66,
     "metadata": {},
     "output_type": "execute_result"
    }
   ],
   "source": [
    "footballers_database[footballers_database['player_or_reserve'] == 'squad_player']"
   ]
  },
  {
   "cell_type": "code",
   "execution_count": 65,
   "metadata": {},
   "outputs": [
    {
     "name": "stdout",
     "output_type": "stream",
     "text": [
      "Sucessfully saved\n"
     ]
    }
   ],
   "source": [
    "footballers_database.to_csv('C:/Users/jw156/Ironhack/football_teammates/Footballers/football_squad.csv')\n",
    "print(\"Sucessfully saved\")"
   ]
  }
 ],
 "metadata": {
  "kernelspec": {
   "display_name": "Python 3",
   "language": "python",
   "name": "python3"
  },
  "language_info": {
   "codemirror_mode": {
    "name": "ipython",
    "version": 3
   },
   "file_extension": ".py",
   "mimetype": "text/x-python",
   "name": "python",
   "nbconvert_exporter": "python",
   "pygments_lexer": "ipython3",
   "version": "3.8.5"
  }
 },
 "nbformat": 4,
 "nbformat_minor": 4
}
