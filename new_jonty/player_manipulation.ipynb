{
 "cells": [
  {
   "cell_type": "code",
   "execution_count": 1,
   "metadata": {},
   "outputs": [],
   "source": [
    "import pandas as pd\n",
    "from csv import reader\n",
    "import pprint\n",
    "from collections import defaultdict\n"
   ]
  },
  {
   "cell_type": "code",
   "execution_count": 2,
   "metadata": {},
   "outputs": [],
   "source": [
    "squad_list = pd.read_csv('C:/Users/jw156/Ironhack/football_teammates/Footballers/new_jonty/football_squad.csv', index_col=0)"
   ]
  },
  {
   "cell_type": "code",
   "execution_count": 3,
   "metadata": {},
   "outputs": [
    {
     "data": {
      "text/plain": [
       "array([1993, 1994, 1995, 1996, 1997, 1998, 1999, 2000, 2001, 2002, 2003,\n",
       "       2004, 2005, 2006, 2007, 2008, 2009, 2010, 2011, 2012, 2013, 2014,\n",
       "       2015, 2016, 2017, 2018, 2019], dtype=int64)"
      ]
     },
     "execution_count": 3,
     "metadata": {},
     "output_type": "execute_result"
    }
   ],
   "source": [
    "squad_list.Year.unique()"
   ]
  },
  {
   "cell_type": "code",
   "execution_count": 4,
   "metadata": {},
   "outputs": [],
   "source": [
    "player_name_to_player_id_map = {}\n",
    "player_id_to_team_ids_map = defaultdict(list)\n",
    "team_id_to_player_name = defaultdict(list)\n",
    "player_id_to_player_name = {}"
   ]
  },
  {
   "cell_type": "code",
   "execution_count": 5,
   "metadata": {},
   "outputs": [],
   "source": [
    "players = squad_list.Player.tolist()\n",
    "player_id = squad_list['Player ID'].tolist()\n",
    "team_id = squad_list['Team ID'].tolist()"
   ]
  },
  {
   "cell_type": "code",
   "execution_count": 6,
   "metadata": {},
   "outputs": [],
   "source": [
    "for p, p_id, t_id in zip(players, player_id, team_id):\n",
    "    player_name_to_player_id_map[p] = p_id\n",
    "    player_id_to_team_ids_map[p_id].append(t_id)\n",
    "    team_id_to_player_name[t_id].append(p)\n",
    "    player_id_to_player_name[p_id] = p"
   ]
  },
  {
   "cell_type": "markdown",
   "metadata": {},
   "source": [
    "# Find the shared team_ids"
   ]
  },
  {
   "cell_type": "code",
   "execution_count": 25,
   "metadata": {},
   "outputs": [],
   "source": [
    "def shared_players(shared_players):\n",
    "    shared_name_players = [player_id_to_player_name[player] for player in shared_players]\n",
    "    return shared_name_players\n",
    "\n",
    "\n",
    "def search_team(player1='', player2=''):\n",
    "    player1 = player_name_to_player_id_map[player1]\n",
    "    player2 = player_name_to_player_id_map[player2]\n",
    "    player_1_team_ids = player_id_to_team_ids_map[player1]\n",
    "    player_2_team_ids = player_id_to_team_ids_map[player2]\n",
    "    all_players_1 = set([])\n",
    "    for team in player_1_team_ids:\n",
    "        list_squads = team_id_to_player_name[team]\n",
    "        for player in list_squads:\n",
    "            player_id = player_name_to_player_id_map[player]\n",
    "            all_players_1.add(player_id)\n",
    "\n",
    "    all_players_2 = set([])\n",
    "    for team in player_2_team_ids:\n",
    "        list_squads = team_id_to_player_name[team]\n",
    "        for player in list_squads:\n",
    "            player_id = player_name_to_player_id_map[player]\n",
    "            all_players_2.add(player_id)\n",
    "\n",
    "    shared_players = list(all_players_1.intersection(all_players_2))\n",
    "    shared_name_players = [player_id_to_player_name[player] for player in shared_players]\n",
    "    return shared_name_players "
   ]
  },
  {
   "cell_type": "code",
   "execution_count": 27,
   "metadata": {},
   "outputs": [
    {
     "data": {
      "text/plain": [
       "['Seamus Coleman',\n",
       " 'Joseph Yobo',\n",
       " 'Thomas Gravesen',\n",
       " 'Marouane Fellaini',\n",
       " 'Richard Wright',\n",
       " 'Nick Chadwick',\n",
       " 'Leighton Baines',\n",
       " 'Theo Walcott',\n",
       " 'James McFadden',\n",
       " 'Louis Saha',\n",
       " 'Gary Naysmith',\n",
       " 'Phil Jagielka',\n",
       " 'Lee Carsley',\n",
       " 'Tim Howard',\n",
       " 'Steve Watson',\n",
       " 'David Weir',\n",
       " 'Phil Neville',\n",
       " 'Kevin Campbell',\n",
       " 'Alan Stubbs',\n",
       " 'Danny Welbeck',\n",
       " 'Robin van Persie',\n",
       " 'Kevin Kilbane',\n",
       " 'Nigel Martyn',\n",
       " 'Darron Gibson',\n",
       " 'Tony Hibbert',\n",
       " 'Alessandro Pistone',\n",
       " 'Duncan Ferguson',\n",
       " 'Leon Osman']"
      ]
     },
     "execution_count": 27,
     "metadata": {},
     "output_type": "execute_result"
    }
   ],
   "source": [
    "search_team('Wayne Rooney', 'Mikel Arteta')"
   ]
  },
  {
   "cell_type": "markdown",
   "metadata": {},
   "source": [
    "# Find the shared players"
   ]
  },
  {
   "cell_type": "code",
   "execution_count": 23,
   "metadata": {},
   "outputs": [],
   "source": [
    "player_1 = player_name_to_player_id_map['Thierry Henry']\n",
    "player_2 = player_name_to_player_id_map['Rio Ferdinand']\n",
    "player_1_team_ids = player_id_to_team_ids_map[player_1]\n",
    "player_2_team_ids = player_id_to_team_ids_map[player_2]\n",
    "\n",
    "all_players_1 = set([])\n",
    "for team in player_1_team_ids:\n",
    "    list_squads = team_id_to_player_name[team]\n",
    "    for player in list_squads:\n",
    "        player_id = player_name_to_player_id_map[player]\n",
    "        all_players_1.add(player_id)\n",
    "\n",
    "all_players_2 = set([])\n",
    "for team in player_2_team_ids:\n",
    "    list_squads = team_id_to_player_name[team]\n",
    "    for player in list_squads:\n",
    "        player_id = player_name_to_player_id_map[player]\n",
    "        all_players_2.add(player_id)\n",
    "\n",
    "shared_players = all_players_1.intersection(all_players_2)"
   ]
  },
  {
   "cell_type": "code",
   "execution_count": 24,
   "metadata": {},
   "outputs": [
    {
     "data": {
      "text/plain": [
       "['Robin van Persie', 'Nigel Winterburn', 'Armand Traoré', 'Davor Suker']"
      ]
     },
     "execution_count": 24,
     "metadata": {},
     "output_type": "execute_result"
    }
   ],
   "source": [
    "shared_name_players = [player_id_to_player_name[player] for player in shared_players]\n",
    "shared_name_players"
   ]
  },
  {
   "cell_type": "code",
   "execution_count": 11,
   "metadata": {},
   "outputs": [
    {
     "ename": "NameError",
     "evalue": "name 'shared_team_ids' is not defined",
     "output_type": "error",
     "traceback": [
      "\u001b[1;31m---------------------------------------------------------------------------\u001b[0m",
      "\u001b[1;31mNameError\u001b[0m                                 Traceback (most recent call last)",
      "\u001b[1;32m<ipython-input-11-9b98ca14c36f>\u001b[0m in \u001b[0;36m<module>\u001b[1;34m\u001b[0m\n\u001b[0;32m      1\u001b[0m \u001b[0mshared_team\u001b[0m \u001b[1;33m=\u001b[0m \u001b[0mset\u001b[0m\u001b[1;33m(\u001b[0m\u001b[1;33m[\u001b[0m\u001b[1;33m]\u001b[0m\u001b[1;33m)\u001b[0m\u001b[1;33m\u001b[0m\u001b[1;33m\u001b[0m\u001b[0m\n\u001b[0;32m      2\u001b[0m \u001b[1;33m\u001b[0m\u001b[0m\n\u001b[1;32m----> 3\u001b[1;33m \u001b[1;32mfor\u001b[0m \u001b[0mteam_id\u001b[0m \u001b[1;32min\u001b[0m \u001b[0mshared_team_ids\u001b[0m\u001b[1;33m:\u001b[0m\u001b[1;33m\u001b[0m\u001b[1;33m\u001b[0m\u001b[0m\n\u001b[0m\u001b[0;32m      4\u001b[0m     \u001b[0my\u001b[0m \u001b[1;33m=\u001b[0m \u001b[0mteam_id_to_player_name\u001b[0m\u001b[1;33m[\u001b[0m\u001b[0mteam_id\u001b[0m\u001b[1;33m]\u001b[0m\u001b[1;33m\u001b[0m\u001b[1;33m\u001b[0m\u001b[0m\n\u001b[0;32m      5\u001b[0m     \u001b[1;32mfor\u001b[0m \u001b[0mplayer\u001b[0m \u001b[1;32min\u001b[0m \u001b[0my\u001b[0m\u001b[1;33m:\u001b[0m\u001b[1;33m\u001b[0m\u001b[1;33m\u001b[0m\u001b[0m\n",
      "\u001b[1;31mNameError\u001b[0m: name 'shared_team_ids' is not defined"
     ]
    }
   ],
   "source": [
    "shared_team = set([])\n",
    "\n",
    "for team_id in shared_team_ids:\n",
    "    y = team_id_to_player_name[team_id]\n",
    "    for player in y:\n",
    "        shared_team.add(player)"
   ]
  },
  {
   "cell_type": "code",
   "execution_count": null,
   "metadata": {},
   "outputs": [],
   "source": [
    "shared_team"
   ]
  },
  {
   "cell_type": "code",
   "execution_count": null,
   "metadata": {},
   "outputs": [],
   "source": [
    "if name_1 in player_id_to_team_ids_map:\n",
    "    search = player_id_to_team_ids_map.get(name_1)\n",
    "    add_second_player = player_id_to_team_ids_map.get(name_2)\n",
    "    searched_club_ids_1.update(search)\n",
    "    searched_club_ids_2.update(add_second_player)\n",
    "\n",
    "\n",
    "player_1_teammates = set([])\n",
    "for season in searched_club_ids_1:\n",
    "    finder = team_id_to_player_name.get(season)\n",
    "    player_1_teammates.update(finder)"
   ]
  },
  {
   "cell_type": "code",
   "execution_count": null,
   "metadata": {},
   "outputs": [],
   "source": [
    "print(searched_club_ids_1)\n",
    "print(searched_club_ids_2)"
   ]
  },
  {
   "cell_type": "code",
   "execution_count": null,
   "metadata": {},
   "outputs": [],
   "source": []
  }
 ],
 "metadata": {
  "kernelspec": {
   "display_name": "Python 3",
   "language": "python",
   "name": "python3"
  },
  "language_info": {
   "codemirror_mode": {
    "name": "ipython",
    "version": 3
   },
   "file_extension": ".py",
   "mimetype": "text/x-python",
   "name": "python",
   "nbconvert_exporter": "python",
   "pygments_lexer": "ipython3",
   "version": "3.8.5"
  }
 },
 "nbformat": 4,
 "nbformat_minor": 4
}
