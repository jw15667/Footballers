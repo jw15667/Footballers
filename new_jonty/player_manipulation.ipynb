{
 "cells": [
  {
   "cell_type": "code",
   "execution_count": 139,
   "metadata": {},
   "outputs": [],
   "source": [
    "import pandas as pd\n",
    "from csv import reader\n",
    "import pprint\n",
    "from collections import defaultdict\n"
   ]
  },
  {
   "cell_type": "code",
   "execution_count": 140,
   "metadata": {},
   "outputs": [],
   "source": [
    "# load the data"
   ]
  },
  {
   "cell_type": "code",
   "execution_count": 141,
   "metadata": {},
   "outputs": [],
   "source": [
    "squad_list = pd.read_csv('C:/Users/jw156/Ironhack/football_teammates/Footballers/new_jonty/football_squad.csv', index_col=0)"
   ]
  },
  {
   "cell_type": "code",
   "execution_count": 142,
   "metadata": {},
   "outputs": [
    {
     "data": {
      "text/html": [
       "<div>\n",
       "<style scoped>\n",
       "    .dataframe tbody tr th:only-of-type {\n",
       "        vertical-align: middle;\n",
       "    }\n",
       "\n",
       "    .dataframe tbody tr th {\n",
       "        vertical-align: top;\n",
       "    }\n",
       "\n",
       "    .dataframe thead th {\n",
       "        text-align: right;\n",
       "    }\n",
       "</style>\n",
       "<table border=\"1\" class=\"dataframe\">\n",
       "  <thead>\n",
       "    <tr style=\"text-align: right;\">\n",
       "      <th></th>\n",
       "      <th>Player</th>\n",
       "      <th>Club</th>\n",
       "      <th>Year</th>\n",
       "      <th>Player ID</th>\n",
       "      <th>Team ID</th>\n",
       "      <th>Appearances</th>\n",
       "    </tr>\n",
       "  </thead>\n",
       "  <tbody>\n",
       "    <tr>\n",
       "      <th>0</th>\n",
       "      <td>Tony Adams</td>\n",
       "      <td>arsenal</td>\n",
       "      <td>1993</td>\n",
       "      <td>31</td>\n",
       "      <td>arsenal_1993</td>\n",
       "      <td>33</td>\n",
       "    </tr>\n",
       "    <tr>\n",
       "      <th>1</th>\n",
       "      <td>Steve Bould</td>\n",
       "      <td>arsenal</td>\n",
       "      <td>1993</td>\n",
       "      <td>484</td>\n",
       "      <td>arsenal_1993</td>\n",
       "      <td>24</td>\n",
       "    </tr>\n",
       "    <tr>\n",
       "      <th>2</th>\n",
       "      <td>Kevin Campbell</td>\n",
       "      <td>arsenal</td>\n",
       "      <td>1993</td>\n",
       "      <td>196</td>\n",
       "      <td>arsenal_1993</td>\n",
       "      <td>32</td>\n",
       "    </tr>\n",
       "    <tr>\n",
       "      <th>3</th>\n",
       "      <td>Jimmy Carter</td>\n",
       "      <td>arsenal</td>\n",
       "      <td>1993</td>\n",
       "      <td>30111</td>\n",
       "      <td>arsenal_1993</td>\n",
       "      <td>11</td>\n",
       "    </tr>\n",
       "    <tr>\n",
       "      <th>4</th>\n",
       "      <td>Paul Davis</td>\n",
       "      <td>arsenal</td>\n",
       "      <td>1993</td>\n",
       "      <td>27871</td>\n",
       "      <td>arsenal_1993</td>\n",
       "      <td>6</td>\n",
       "    </tr>\n",
       "    <tr>\n",
       "      <th>...</th>\n",
       "      <td>...</td>\n",
       "      <td>...</td>\n",
       "      <td>...</td>\n",
       "      <td>...</td>\n",
       "      <td>...</td>\n",
       "      <td>...</td>\n",
       "    </tr>\n",
       "    <tr>\n",
       "      <th>15807</th>\n",
       "      <td>Rui Patrício</td>\n",
       "      <td>wolverhampton-wanderers</td>\n",
       "      <td>2021</td>\n",
       "      <td>228012</td>\n",
       "      <td>wolverhampton-wanderers_2021</td>\n",
       "      <td>29</td>\n",
       "    </tr>\n",
       "    <tr>\n",
       "      <th>15808</th>\n",
       "      <td>Romain Saïss</td>\n",
       "      <td>wolverhampton-wanderers</td>\n",
       "      <td>2021</td>\n",
       "      <td>252857</td>\n",
       "      <td>wolverhampton-wanderers_2021</td>\n",
       "      <td>20</td>\n",
       "    </tr>\n",
       "    <tr>\n",
       "      <th>15809</th>\n",
       "      <td>Adama Traoré</td>\n",
       "      <td>wolverhampton-wanderers</td>\n",
       "      <td>2021</td>\n",
       "      <td>241740</td>\n",
       "      <td>wolverhampton-wanderers_2021</td>\n",
       "      <td>20</td>\n",
       "    </tr>\n",
       "    <tr>\n",
       "      <th>15810</th>\n",
       "      <td>Vitinha</td>\n",
       "      <td>wolverhampton-wanderers</td>\n",
       "      <td>2021</td>\n",
       "      <td>265842</td>\n",
       "      <td>wolverhampton-wanderers_2021</td>\n",
       "      <td>2</td>\n",
       "    </tr>\n",
       "    <tr>\n",
       "      <th>15811</th>\n",
       "      <td>Willian José</td>\n",
       "      <td>wolverhampton-wanderers</td>\n",
       "      <td>2021</td>\n",
       "      <td>257383</td>\n",
       "      <td>wolverhampton-wanderers_2021</td>\n",
       "      <td>8</td>\n",
       "    </tr>\n",
       "  </tbody>\n",
       "</table>\n",
       "<p>15812 rows × 6 columns</p>\n",
       "</div>"
      ],
      "text/plain": [
       "               Player                     Club  Year  Player ID  \\\n",
       "0          Tony Adams                  arsenal  1993         31   \n",
       "1         Steve Bould                  arsenal  1993        484   \n",
       "2      Kevin Campbell                  arsenal  1993        196   \n",
       "3        Jimmy Carter                  arsenal  1993      30111   \n",
       "4          Paul Davis                  arsenal  1993      27871   \n",
       "...               ...                      ...   ...        ...   \n",
       "15807    Rui Patrício  wolverhampton-wanderers  2021     228012   \n",
       "15808    Romain Saïss  wolverhampton-wanderers  2021     252857   \n",
       "15809    Adama Traoré  wolverhampton-wanderers  2021     241740   \n",
       "15810         Vitinha  wolverhampton-wanderers  2021     265842   \n",
       "15811    Willian José  wolverhampton-wanderers  2021     257383   \n",
       "\n",
       "                            Team ID  Appearances  \n",
       "0                      arsenal_1993           33  \n",
       "1                      arsenal_1993           24  \n",
       "2                      arsenal_1993           32  \n",
       "3                      arsenal_1993           11  \n",
       "4                      arsenal_1993            6  \n",
       "...                             ...          ...  \n",
       "15807  wolverhampton-wanderers_2021           29  \n",
       "15808  wolverhampton-wanderers_2021           20  \n",
       "15809  wolverhampton-wanderers_2021           20  \n",
       "15810  wolverhampton-wanderers_2021            2  \n",
       "15811  wolverhampton-wanderers_2021            8  \n",
       "\n",
       "[15812 rows x 6 columns]"
      ]
     },
     "execution_count": 142,
     "metadata": {},
     "output_type": "execute_result"
    }
   ],
   "source": [
    "squad_list"
   ]
  },
  {
   "cell_type": "code",
   "execution_count": 143,
   "metadata": {},
   "outputs": [],
   "source": [
    "# dataframe finding shared players"
   ]
  },
  {
   "cell_type": "code",
   "execution_count": 144,
   "metadata": {},
   "outputs": [],
   "source": [
    "# find reserves and first-time"
   ]
  },
  {
   "cell_type": "code",
   "execution_count": 145,
   "metadata": {},
   "outputs": [],
   "source": [
    "def player_or_squadman(appearances):\n",
    "    if appearances == 0:\n",
    "        return 'squad_player'\n",
    "    else:\n",
    "        return 'first_team_player'"
   ]
  },
  {
   "cell_type": "code",
   "execution_count": 146,
   "metadata": {},
   "outputs": [],
   "source": [
    "squad_list['reserve_or_player'] = squad_list['Appearances'].apply(player_or_squadman)"
   ]
  },
  {
   "cell_type": "markdown",
   "metadata": {},
   "source": [
    "#  Shared Players 'inc. reserves'"
   ]
  },
  {
   "cell_type": "code",
   "execution_count": 167,
   "metadata": {},
   "outputs": [],
   "source": [
    "def shared_players(player1= '', player2='', reserve=True, squad_list=squad_list):\n",
    "    all_player_id_to_team_ids_map = defaultdict(list)\n",
    "    team_id_to_player_id = defaultdict(list)\n",
    "    player_id_to_player_name = {}\n",
    "    player_name_to_player_id_map = {}\n",
    "\n",
    "    if reserve == False:\n",
    "        squad_list = squad_list[squad_list['reserve_or_player']=='first_team_player']\n",
    "    else:\n",
    "        squad_list = squad_list\n",
    "\n",
    "    players = squad_list.Player.tolist()\n",
    "    all_player_id = squad_list['Player ID'].tolist()\n",
    "    team_id = squad_list['Team ID'].tolist()\n",
    "\n",
    "    for p, p_id, t_id in zip(players, all_player_id, team_id):\n",
    "        player_name_to_player_id_map[p] = p_id\n",
    "        all_player_id_to_team_ids_map[p_id].append(t_id)\n",
    "        team_id_to_player_id[t_id].append(p_id)\n",
    "        player_id_to_player_name[p_id] = p\n",
    "\n",
    "\n",
    "    player1 = player_name_to_player_id_map[player1]\n",
    "    player_1_team_ids = all_player_id_to_team_ids_map[player1]\n",
    "\n",
    "    all_players_1 = set([])\n",
    "    for team in player_1_team_ids:\n",
    "        list_squads = team_id_to_player_id[team]\n",
    "        for player in list_squads:\n",
    "            all_players_1.add(player)\n",
    "    player2 = player_name_to_player_id_map[player2]\n",
    "    player_2_team_ids = all_player_id_to_team_ids_map[player2]\n",
    "\n",
    "    all_players_2 = set([])\n",
    "    for team in player_2_team_ids:\n",
    "        list_squads = team_id_to_player_id[team]\n",
    "        for player in list_squads:\n",
    "            all_players_2.add(player)\n",
    "\n",
    "    shared_players = list(all_players_1.intersection(all_players_2))\n",
    "    shared_name_players = [player_id_to_player_name[player] for player in shared_players]\n",
    "    return shared_name_players"
   ]
  },
  {
   "cell_type": "code",
   "execution_count": 172,
   "metadata": {},
   "outputs": [
    {
     "data": {
      "text/plain": [
       "['Michael Owen', 'Paul Ince']"
      ]
     },
     "execution_count": 172,
     "metadata": {},
     "output_type": "execute_result"
    }
   ],
   "source": [
    "shared_players('Gary Neville', 'Steven Gerrard', reserve=False)"
   ]
  },
  {
   "cell_type": "code",
   "execution_count": null,
   "metadata": {},
   "outputs": [],
   "source": []
  }
 ],
 "metadata": {
  "kernelspec": {
   "display_name": "Python 3",
   "language": "python",
   "name": "python3"
  },
  "language_info": {
   "codemirror_mode": {
    "name": "ipython",
    "version": 3
   },
   "file_extension": ".py",
   "mimetype": "text/x-python",
   "name": "python",
   "nbconvert_exporter": "python",
   "pygments_lexer": "ipython3",
   "version": "3.8.5"
  }
 },
 "nbformat": 4,
 "nbformat_minor": 4
}
