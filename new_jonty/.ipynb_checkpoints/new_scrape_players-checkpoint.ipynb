{
 "cells": [
  {
   "cell_type": "code",
   "execution_count": 1,
   "metadata": {},
   "outputs": [],
   "source": [
    "from bs4 import BeautifulSoup\n",
    "import requests\n",
    "import csv\n",
    "import pandas as pd\n",
    "\n"
   ]
  },
  {
   "cell_type": "code",
   "execution_count": 2,
   "metadata": {},
   "outputs": [],
   "source": [
    "\n",
    "club_list = ['arsenal', 'aston-villa', 'barnsley', 'birmingham-city', 'blackburn-rovers', 'blackpool',\n",
    "             'bolton-wanderers', 'afc-bournemouth', 'bradford-city', 'brighton-and-hove-albion', 'burnley',\n",
    "             'cardiff-city', 'charlton-athletic', 'chelsea', 'coventry-city', 'crystal-palace', 'derby-county',\n",
    "             'everton', 'fulham', 'huddersfield-town', 'hull-city', 'ipswich-town', 'leeds-united', 'leicester-city',\n",
    "             'liverpool', 'manchester-city', 'manchester-united', 'middlesbrough', 'newcastle-united', 'norwich-city',\n",
    "             'nottingham-forest', 'oldham-athletic', 'portsmouth', 'queens-park-rangers', 'reading', 'sheffield-united',\n",
    "             'sheffield-wednesday', 'southampton', 'stoke-city', 'sunderland', 'swansea-city', 'swindon-town', 'tottenham-hotspur',\n",
    "             'watford', 'west-bromwich-albion', 'west-ham-united', 'wigan-athletic', 'wimbledon', 'wolverhampton-wanderers']\n",
    "\n",
    "season = ['1992', '1993', '1994', '1995', '1996', '1997', '1998', '1999', '2000', '2001', '2002', '2003', '2004', '2005',\n",
    "          '2006', '2007', '2008', '2009', '2010', '2011', '2012', '2013', '2014', '2015', '2016', '2017', '2018', '2019', '2020', '2021']\n",
    "\n",
    "\n",
    "team_season = []\n",
    "\n"
   ]
  },
  {
   "cell_type": "code",
   "execution_count": null,
   "metadata": {},
   "outputs": [],
   "source": [
    "import re\n",
    "\n",
    "team_season = []\n",
    "for club, year in [(club, year) for club in club_list for year in season]:\n",
    "    website = f'https://www.11v11.com/teams/{club}/tab/players/season/{year}/comp/1'\n",
    "    source = requests.get(website).text\n",
    "    soup = BeautifulSoup(source, 'lxml')\n",
    "    squad = soup.find(class_=\"squad sortable\").find(\"tbody\").find_all(\"tr\")\n",
    "    if squad == None:\n",
    "        break\n",
    "    else:\n",
    "        for row in squad:\n",
    "            tds = row.find_all('td')\n",
    "            x = (tds[1].find('a')['href'])\n",
    "            player_id = re.findall(\"\\d+\", x)[0]\n",
    "            player_name = (tds[1].text)\n",
    "            appearances = (tds[4].text)\n",
    "            team_id = club + str(\"_\") + str(year)\n",
    "        \n",
    "            team = {}\n",
    "            team['Player'] = player_name\n",
    "            team['Club'] = club\n",
    "            team['Year'] = year\n",
    "            team['Player ID'] = player_id\n",
    "            team['Team ID'] = team_id\n",
    "            team['Appearances']= appearances\n",
    "            team_season.append(team)"
   ]
  },
  {
   "cell_type": "code",
   "execution_count": null,
   "metadata": {},
   "outputs": [],
   "source": [
    "team_season[14778]"
   ]
  },
  {
   "cell_type": "code",
   "execution_count": null,
   "metadata": {},
   "outputs": [],
   "source": [
    "footballers_database = pd.DataFrame.from_dict(team_season)\n",
    "footballers_database.to_csv('C:/Users/jw156/Ironhack/football_teammates/Footballers/football_squad.csv')\n",
    "print(\"Sucessfully saved\")"
   ]
  },
  {
   "cell_type": "code",
   "execution_count": null,
   "metadata": {},
   "outputs": [],
   "source": [
    "def player_or_squadman(appearances):\n",
    "    if appearances == '0':\n",
    "        return 'squad_player'\n",
    "    else:\n",
    "        return 'first_team_player'"
   ]
  },
  {
   "cell_type": "code",
   "execution_count": null,
   "metadata": {},
   "outputs": [],
   "source": [
    "footballers_database['player_or_reserve'] = footballers_database.Appearances.apply(player_or_squadman)"
   ]
  },
  {
   "cell_type": "code",
   "execution_count": null,
   "metadata": {},
   "outputs": [],
   "source": [
    "# footballers_database[footballers_database['player_or_reserve'] == 'squad_player']"
   ]
  },
  {
   "cell_type": "code",
   "execution_count": null,
   "metadata": {},
   "outputs": [],
   "source": [
    "footballers_database.to_csv('C:/Users/jw156/Ironhack/football_teammates/Footballers/football_squad.csv')\n",
    "print(\"Sucessfully saved\")"
   ]
  }
 ],
 "metadata": {
  "kernelspec": {
   "display_name": "Python 3",
   "language": "python",
   "name": "python3"
  },
  "language_info": {
   "codemirror_mode": {
    "name": "ipython",
    "version": 3
   },
   "file_extension": ".py",
   "mimetype": "text/x-python",
   "name": "python",
   "nbconvert_exporter": "python",
   "pygments_lexer": "ipython3",
   "version": "3.8.5"
  }
 },
 "nbformat": 4,
 "nbformat_minor": 4
}
